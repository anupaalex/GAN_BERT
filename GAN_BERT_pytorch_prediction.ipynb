{
  "nbformat": 4,
  "nbformat_minor": 0,
  "metadata": {
    "colab": {
      "name": "GAN_BERT pytorch prediction.ipynb",
      "provenance": [],
      "collapsed_sections": []
    },
    "kernelspec": {
      "name": "python3",
      "display_name": "Python 3"
    },
    "language_info": {
      "name": "python"
    },
    "widgets": {
      "application/vnd.jupyter.widget-state+json": {
        "faeecbc12b5747138a2d817c9f6a2fd5": {
          "model_module": "@jupyter-widgets/controls",
          "model_name": "HBoxModel",
          "model_module_version": "1.5.0",
          "state": {
            "_view_name": "HBoxView",
            "_dom_classes": [],
            "_model_name": "HBoxModel",
            "_view_module": "@jupyter-widgets/controls",
            "_model_module_version": "1.5.0",
            "_view_count": null,
            "_view_module_version": "1.5.0",
            "box_style": "",
            "layout": "IPY_MODEL_d2f0fea20d9f445e896d28be98e64b7f",
            "_model_module": "@jupyter-widgets/controls",
            "children": [
              "IPY_MODEL_fb470b9e5a4443b3b4ab257e2ffc2b97",
              "IPY_MODEL_0674fc8bf2bd4506b0fafe0a5ee854fe"
            ]
          }
        },
        "d2f0fea20d9f445e896d28be98e64b7f": {
          "model_module": "@jupyter-widgets/base",
          "model_name": "LayoutModel",
          "model_module_version": "1.2.0",
          "state": {
            "_view_name": "LayoutView",
            "grid_template_rows": null,
            "right": null,
            "justify_content": null,
            "_view_module": "@jupyter-widgets/base",
            "overflow": null,
            "_model_module_version": "1.2.0",
            "_view_count": null,
            "flex_flow": null,
            "width": null,
            "min_width": null,
            "border": null,
            "align_items": null,
            "bottom": null,
            "_model_module": "@jupyter-widgets/base",
            "top": null,
            "grid_column": null,
            "overflow_y": null,
            "overflow_x": null,
            "grid_auto_flow": null,
            "grid_area": null,
            "grid_template_columns": null,
            "flex": null,
            "_model_name": "LayoutModel",
            "justify_items": null,
            "grid_row": null,
            "max_height": null,
            "align_content": null,
            "visibility": null,
            "align_self": null,
            "height": null,
            "min_height": null,
            "padding": null,
            "grid_auto_rows": null,
            "grid_gap": null,
            "max_width": null,
            "order": null,
            "_view_module_version": "1.2.0",
            "grid_template_areas": null,
            "object_position": null,
            "object_fit": null,
            "grid_auto_columns": null,
            "margin": null,
            "display": null,
            "left": null
          }
        },
        "fb470b9e5a4443b3b4ab257e2ffc2b97": {
          "model_module": "@jupyter-widgets/controls",
          "model_name": "FloatProgressModel",
          "model_module_version": "1.5.0",
          "state": {
            "_view_name": "ProgressView",
            "style": "IPY_MODEL_92630139305f4dafad8739f7b6624619",
            "_dom_classes": [],
            "description": "Downloading: 100%",
            "_model_name": "FloatProgressModel",
            "bar_style": "success",
            "max": 570,
            "_view_module": "@jupyter-widgets/controls",
            "_model_module_version": "1.5.0",
            "value": 570,
            "_view_count": null,
            "_view_module_version": "1.5.0",
            "orientation": "horizontal",
            "min": 0,
            "description_tooltip": null,
            "_model_module": "@jupyter-widgets/controls",
            "layout": "IPY_MODEL_f6dc0788d39141adb23f104014849c14"
          }
        },
        "0674fc8bf2bd4506b0fafe0a5ee854fe": {
          "model_module": "@jupyter-widgets/controls",
          "model_name": "HTMLModel",
          "model_module_version": "1.5.0",
          "state": {
            "_view_name": "HTMLView",
            "style": "IPY_MODEL_c000209ddccc48e587097aba2acb18ff",
            "_dom_classes": [],
            "description": "",
            "_model_name": "HTMLModel",
            "placeholder": "​",
            "_view_module": "@jupyter-widgets/controls",
            "_model_module_version": "1.5.0",
            "value": " 570/570 [00:00&lt;00:00, 802B/s]",
            "_view_count": null,
            "_view_module_version": "1.5.0",
            "description_tooltip": null,
            "_model_module": "@jupyter-widgets/controls",
            "layout": "IPY_MODEL_4de2a5ff74754e44b41c27bce3fc97b5"
          }
        },
        "92630139305f4dafad8739f7b6624619": {
          "model_module": "@jupyter-widgets/controls",
          "model_name": "ProgressStyleModel",
          "model_module_version": "1.5.0",
          "state": {
            "_view_name": "StyleView",
            "_model_name": "ProgressStyleModel",
            "description_width": "initial",
            "_view_module": "@jupyter-widgets/base",
            "_model_module_version": "1.5.0",
            "_view_count": null,
            "_view_module_version": "1.2.0",
            "bar_color": null,
            "_model_module": "@jupyter-widgets/controls"
          }
        },
        "f6dc0788d39141adb23f104014849c14": {
          "model_module": "@jupyter-widgets/base",
          "model_name": "LayoutModel",
          "model_module_version": "1.2.0",
          "state": {
            "_view_name": "LayoutView",
            "grid_template_rows": null,
            "right": null,
            "justify_content": null,
            "_view_module": "@jupyter-widgets/base",
            "overflow": null,
            "_model_module_version": "1.2.0",
            "_view_count": null,
            "flex_flow": null,
            "width": null,
            "min_width": null,
            "border": null,
            "align_items": null,
            "bottom": null,
            "_model_module": "@jupyter-widgets/base",
            "top": null,
            "grid_column": null,
            "overflow_y": null,
            "overflow_x": null,
            "grid_auto_flow": null,
            "grid_area": null,
            "grid_template_columns": null,
            "flex": null,
            "_model_name": "LayoutModel",
            "justify_items": null,
            "grid_row": null,
            "max_height": null,
            "align_content": null,
            "visibility": null,
            "align_self": null,
            "height": null,
            "min_height": null,
            "padding": null,
            "grid_auto_rows": null,
            "grid_gap": null,
            "max_width": null,
            "order": null,
            "_view_module_version": "1.2.0",
            "grid_template_areas": null,
            "object_position": null,
            "object_fit": null,
            "grid_auto_columns": null,
            "margin": null,
            "display": null,
            "left": null
          }
        },
        "c000209ddccc48e587097aba2acb18ff": {
          "model_module": "@jupyter-widgets/controls",
          "model_name": "DescriptionStyleModel",
          "model_module_version": "1.5.0",
          "state": {
            "_view_name": "StyleView",
            "_model_name": "DescriptionStyleModel",
            "description_width": "",
            "_view_module": "@jupyter-widgets/base",
            "_model_module_version": "1.5.0",
            "_view_count": null,
            "_view_module_version": "1.2.0",
            "_model_module": "@jupyter-widgets/controls"
          }
        },
        "4de2a5ff74754e44b41c27bce3fc97b5": {
          "model_module": "@jupyter-widgets/base",
          "model_name": "LayoutModel",
          "model_module_version": "1.2.0",
          "state": {
            "_view_name": "LayoutView",
            "grid_template_rows": null,
            "right": null,
            "justify_content": null,
            "_view_module": "@jupyter-widgets/base",
            "overflow": null,
            "_model_module_version": "1.2.0",
            "_view_count": null,
            "flex_flow": null,
            "width": null,
            "min_width": null,
            "border": null,
            "align_items": null,
            "bottom": null,
            "_model_module": "@jupyter-widgets/base",
            "top": null,
            "grid_column": null,
            "overflow_y": null,
            "overflow_x": null,
            "grid_auto_flow": null,
            "grid_area": null,
            "grid_template_columns": null,
            "flex": null,
            "_model_name": "LayoutModel",
            "justify_items": null,
            "grid_row": null,
            "max_height": null,
            "align_content": null,
            "visibility": null,
            "align_self": null,
            "height": null,
            "min_height": null,
            "padding": null,
            "grid_auto_rows": null,
            "grid_gap": null,
            "max_width": null,
            "order": null,
            "_view_module_version": "1.2.0",
            "grid_template_areas": null,
            "object_position": null,
            "object_fit": null,
            "grid_auto_columns": null,
            "margin": null,
            "display": null,
            "left": null
          }
        },
        "a4c1e59b58df41fc98d50956a3a93321": {
          "model_module": "@jupyter-widgets/controls",
          "model_name": "HBoxModel",
          "model_module_version": "1.5.0",
          "state": {
            "_view_name": "HBoxView",
            "_dom_classes": [],
            "_model_name": "HBoxModel",
            "_view_module": "@jupyter-widgets/controls",
            "_model_module_version": "1.5.0",
            "_view_count": null,
            "_view_module_version": "1.5.0",
            "box_style": "",
            "layout": "IPY_MODEL_94beb769cb7d4db0a49cadee82436e29",
            "_model_module": "@jupyter-widgets/controls",
            "children": [
              "IPY_MODEL_55bbc3b046f64600b06f0e302da19bbb",
              "IPY_MODEL_08ef59d970784fe0a48622493822c898"
            ]
          }
        },
        "94beb769cb7d4db0a49cadee82436e29": {
          "model_module": "@jupyter-widgets/base",
          "model_name": "LayoutModel",
          "model_module_version": "1.2.0",
          "state": {
            "_view_name": "LayoutView",
            "grid_template_rows": null,
            "right": null,
            "justify_content": null,
            "_view_module": "@jupyter-widgets/base",
            "overflow": null,
            "_model_module_version": "1.2.0",
            "_view_count": null,
            "flex_flow": null,
            "width": null,
            "min_width": null,
            "border": null,
            "align_items": null,
            "bottom": null,
            "_model_module": "@jupyter-widgets/base",
            "top": null,
            "grid_column": null,
            "overflow_y": null,
            "overflow_x": null,
            "grid_auto_flow": null,
            "grid_area": null,
            "grid_template_columns": null,
            "flex": null,
            "_model_name": "LayoutModel",
            "justify_items": null,
            "grid_row": null,
            "max_height": null,
            "align_content": null,
            "visibility": null,
            "align_self": null,
            "height": null,
            "min_height": null,
            "padding": null,
            "grid_auto_rows": null,
            "grid_gap": null,
            "max_width": null,
            "order": null,
            "_view_module_version": "1.2.0",
            "grid_template_areas": null,
            "object_position": null,
            "object_fit": null,
            "grid_auto_columns": null,
            "margin": null,
            "display": null,
            "left": null
          }
        },
        "55bbc3b046f64600b06f0e302da19bbb": {
          "model_module": "@jupyter-widgets/controls",
          "model_name": "FloatProgressModel",
          "model_module_version": "1.5.0",
          "state": {
            "_view_name": "ProgressView",
            "style": "IPY_MODEL_ff92440bf5944276b25671679045d7cc",
            "_dom_classes": [],
            "description": "Downloading: 100%",
            "_model_name": "FloatProgressModel",
            "bar_style": "success",
            "max": 213450,
            "_view_module": "@jupyter-widgets/controls",
            "_model_module_version": "1.5.0",
            "value": 213450,
            "_view_count": null,
            "_view_module_version": "1.5.0",
            "orientation": "horizontal",
            "min": 0,
            "description_tooltip": null,
            "_model_module": "@jupyter-widgets/controls",
            "layout": "IPY_MODEL_c42f7abf50824a69bf534cc3c8519947"
          }
        },
        "08ef59d970784fe0a48622493822c898": {
          "model_module": "@jupyter-widgets/controls",
          "model_name": "HTMLModel",
          "model_module_version": "1.5.0",
          "state": {
            "_view_name": "HTMLView",
            "style": "IPY_MODEL_842a61d70dac4dda8d3faf38b9d9c151",
            "_dom_classes": [],
            "description": "",
            "_model_name": "HTMLModel",
            "placeholder": "​",
            "_view_module": "@jupyter-widgets/controls",
            "_model_module_version": "1.5.0",
            "value": " 213k/213k [01:12&lt;00:00, 2.93kB/s]",
            "_view_count": null,
            "_view_module_version": "1.5.0",
            "description_tooltip": null,
            "_model_module": "@jupyter-widgets/controls",
            "layout": "IPY_MODEL_52c745cb5a744fdc9a581f791d426230"
          }
        },
        "ff92440bf5944276b25671679045d7cc": {
          "model_module": "@jupyter-widgets/controls",
          "model_name": "ProgressStyleModel",
          "model_module_version": "1.5.0",
          "state": {
            "_view_name": "StyleView",
            "_model_name": "ProgressStyleModel",
            "description_width": "initial",
            "_view_module": "@jupyter-widgets/base",
            "_model_module_version": "1.5.0",
            "_view_count": null,
            "_view_module_version": "1.2.0",
            "bar_color": null,
            "_model_module": "@jupyter-widgets/controls"
          }
        },
        "c42f7abf50824a69bf534cc3c8519947": {
          "model_module": "@jupyter-widgets/base",
          "model_name": "LayoutModel",
          "model_module_version": "1.2.0",
          "state": {
            "_view_name": "LayoutView",
            "grid_template_rows": null,
            "right": null,
            "justify_content": null,
            "_view_module": "@jupyter-widgets/base",
            "overflow": null,
            "_model_module_version": "1.2.0",
            "_view_count": null,
            "flex_flow": null,
            "width": null,
            "min_width": null,
            "border": null,
            "align_items": null,
            "bottom": null,
            "_model_module": "@jupyter-widgets/base",
            "top": null,
            "grid_column": null,
            "overflow_y": null,
            "overflow_x": null,
            "grid_auto_flow": null,
            "grid_area": null,
            "grid_template_columns": null,
            "flex": null,
            "_model_name": "LayoutModel",
            "justify_items": null,
            "grid_row": null,
            "max_height": null,
            "align_content": null,
            "visibility": null,
            "align_self": null,
            "height": null,
            "min_height": null,
            "padding": null,
            "grid_auto_rows": null,
            "grid_gap": null,
            "max_width": null,
            "order": null,
            "_view_module_version": "1.2.0",
            "grid_template_areas": null,
            "object_position": null,
            "object_fit": null,
            "grid_auto_columns": null,
            "margin": null,
            "display": null,
            "left": null
          }
        },
        "842a61d70dac4dda8d3faf38b9d9c151": {
          "model_module": "@jupyter-widgets/controls",
          "model_name": "DescriptionStyleModel",
          "model_module_version": "1.5.0",
          "state": {
            "_view_name": "StyleView",
            "_model_name": "DescriptionStyleModel",
            "description_width": "",
            "_view_module": "@jupyter-widgets/base",
            "_model_module_version": "1.5.0",
            "_view_count": null,
            "_view_module_version": "1.2.0",
            "_model_module": "@jupyter-widgets/controls"
          }
        },
        "52c745cb5a744fdc9a581f791d426230": {
          "model_module": "@jupyter-widgets/base",
          "model_name": "LayoutModel",
          "model_module_version": "1.2.0",
          "state": {
            "_view_name": "LayoutView",
            "grid_template_rows": null,
            "right": null,
            "justify_content": null,
            "_view_module": "@jupyter-widgets/base",
            "overflow": null,
            "_model_module_version": "1.2.0",
            "_view_count": null,
            "flex_flow": null,
            "width": null,
            "min_width": null,
            "border": null,
            "align_items": null,
            "bottom": null,
            "_model_module": "@jupyter-widgets/base",
            "top": null,
            "grid_column": null,
            "overflow_y": null,
            "overflow_x": null,
            "grid_auto_flow": null,
            "grid_area": null,
            "grid_template_columns": null,
            "flex": null,
            "_model_name": "LayoutModel",
            "justify_items": null,
            "grid_row": null,
            "max_height": null,
            "align_content": null,
            "visibility": null,
            "align_self": null,
            "height": null,
            "min_height": null,
            "padding": null,
            "grid_auto_rows": null,
            "grid_gap": null,
            "max_width": null,
            "order": null,
            "_view_module_version": "1.2.0",
            "grid_template_areas": null,
            "object_position": null,
            "object_fit": null,
            "grid_auto_columns": null,
            "margin": null,
            "display": null,
            "left": null
          }
        },
        "6806f5d18c1c480da134e5e74de8b20c": {
          "model_module": "@jupyter-widgets/controls",
          "model_name": "HBoxModel",
          "model_module_version": "1.5.0",
          "state": {
            "_view_name": "HBoxView",
            "_dom_classes": [],
            "_model_name": "HBoxModel",
            "_view_module": "@jupyter-widgets/controls",
            "_model_module_version": "1.5.0",
            "_view_count": null,
            "_view_module_version": "1.5.0",
            "box_style": "",
            "layout": "IPY_MODEL_ccbece60e65d476aa380c0f7c49a2312",
            "_model_module": "@jupyter-widgets/controls",
            "children": [
              "IPY_MODEL_9147dc8a1b95433f907a7c979757d493",
              "IPY_MODEL_06c436046c134f609d776e6bd096143d"
            ]
          }
        },
        "ccbece60e65d476aa380c0f7c49a2312": {
          "model_module": "@jupyter-widgets/base",
          "model_name": "LayoutModel",
          "model_module_version": "1.2.0",
          "state": {
            "_view_name": "LayoutView",
            "grid_template_rows": null,
            "right": null,
            "justify_content": null,
            "_view_module": "@jupyter-widgets/base",
            "overflow": null,
            "_model_module_version": "1.2.0",
            "_view_count": null,
            "flex_flow": null,
            "width": null,
            "min_width": null,
            "border": null,
            "align_items": null,
            "bottom": null,
            "_model_module": "@jupyter-widgets/base",
            "top": null,
            "grid_column": null,
            "overflow_y": null,
            "overflow_x": null,
            "grid_auto_flow": null,
            "grid_area": null,
            "grid_template_columns": null,
            "flex": null,
            "_model_name": "LayoutModel",
            "justify_items": null,
            "grid_row": null,
            "max_height": null,
            "align_content": null,
            "visibility": null,
            "align_self": null,
            "height": null,
            "min_height": null,
            "padding": null,
            "grid_auto_rows": null,
            "grid_gap": null,
            "max_width": null,
            "order": null,
            "_view_module_version": "1.2.0",
            "grid_template_areas": null,
            "object_position": null,
            "object_fit": null,
            "grid_auto_columns": null,
            "margin": null,
            "display": null,
            "left": null
          }
        },
        "9147dc8a1b95433f907a7c979757d493": {
          "model_module": "@jupyter-widgets/controls",
          "model_name": "FloatProgressModel",
          "model_module_version": "1.5.0",
          "state": {
            "_view_name": "ProgressView",
            "style": "IPY_MODEL_cee813b276324cbca6a8feb82af08e11",
            "_dom_classes": [],
            "description": "Downloading: 100%",
            "_model_name": "FloatProgressModel",
            "bar_style": "success",
            "max": 435797,
            "_view_module": "@jupyter-widgets/controls",
            "_model_module_version": "1.5.0",
            "value": 435797,
            "_view_count": null,
            "_view_module_version": "1.5.0",
            "orientation": "horizontal",
            "min": 0,
            "description_tooltip": null,
            "_model_module": "@jupyter-widgets/controls",
            "layout": "IPY_MODEL_227391d3b6294cd28d82f9238ba6e011"
          }
        },
        "06c436046c134f609d776e6bd096143d": {
          "model_module": "@jupyter-widgets/controls",
          "model_name": "HTMLModel",
          "model_module_version": "1.5.0",
          "state": {
            "_view_name": "HTMLView",
            "style": "IPY_MODEL_849272acbb6346bdbe847f6a0342818c",
            "_dom_classes": [],
            "description": "",
            "_model_name": "HTMLModel",
            "placeholder": "​",
            "_view_module": "@jupyter-widgets/controls",
            "_model_module_version": "1.5.0",
            "value": " 436k/436k [00:11&lt;00:00, 38.4kB/s]",
            "_view_count": null,
            "_view_module_version": "1.5.0",
            "description_tooltip": null,
            "_model_module": "@jupyter-widgets/controls",
            "layout": "IPY_MODEL_3311af3309444a9ea81e92eaca3eab10"
          }
        },
        "cee813b276324cbca6a8feb82af08e11": {
          "model_module": "@jupyter-widgets/controls",
          "model_name": "ProgressStyleModel",
          "model_module_version": "1.5.0",
          "state": {
            "_view_name": "StyleView",
            "_model_name": "ProgressStyleModel",
            "description_width": "initial",
            "_view_module": "@jupyter-widgets/base",
            "_model_module_version": "1.5.0",
            "_view_count": null,
            "_view_module_version": "1.2.0",
            "bar_color": null,
            "_model_module": "@jupyter-widgets/controls"
          }
        },
        "227391d3b6294cd28d82f9238ba6e011": {
          "model_module": "@jupyter-widgets/base",
          "model_name": "LayoutModel",
          "model_module_version": "1.2.0",
          "state": {
            "_view_name": "LayoutView",
            "grid_template_rows": null,
            "right": null,
            "justify_content": null,
            "_view_module": "@jupyter-widgets/base",
            "overflow": null,
            "_model_module_version": "1.2.0",
            "_view_count": null,
            "flex_flow": null,
            "width": null,
            "min_width": null,
            "border": null,
            "align_items": null,
            "bottom": null,
            "_model_module": "@jupyter-widgets/base",
            "top": null,
            "grid_column": null,
            "overflow_y": null,
            "overflow_x": null,
            "grid_auto_flow": null,
            "grid_area": null,
            "grid_template_columns": null,
            "flex": null,
            "_model_name": "LayoutModel",
            "justify_items": null,
            "grid_row": null,
            "max_height": null,
            "align_content": null,
            "visibility": null,
            "align_self": null,
            "height": null,
            "min_height": null,
            "padding": null,
            "grid_auto_rows": null,
            "grid_gap": null,
            "max_width": null,
            "order": null,
            "_view_module_version": "1.2.0",
            "grid_template_areas": null,
            "object_position": null,
            "object_fit": null,
            "grid_auto_columns": null,
            "margin": null,
            "display": null,
            "left": null
          }
        },
        "849272acbb6346bdbe847f6a0342818c": {
          "model_module": "@jupyter-widgets/controls",
          "model_name": "DescriptionStyleModel",
          "model_module_version": "1.5.0",
          "state": {
            "_view_name": "StyleView",
            "_model_name": "DescriptionStyleModel",
            "description_width": "",
            "_view_module": "@jupyter-widgets/base",
            "_model_module_version": "1.5.0",
            "_view_count": null,
            "_view_module_version": "1.2.0",
            "_model_module": "@jupyter-widgets/controls"
          }
        },
        "3311af3309444a9ea81e92eaca3eab10": {
          "model_module": "@jupyter-widgets/base",
          "model_name": "LayoutModel",
          "model_module_version": "1.2.0",
          "state": {
            "_view_name": "LayoutView",
            "grid_template_rows": null,
            "right": null,
            "justify_content": null,
            "_view_module": "@jupyter-widgets/base",
            "overflow": null,
            "_model_module_version": "1.2.0",
            "_view_count": null,
            "flex_flow": null,
            "width": null,
            "min_width": null,
            "border": null,
            "align_items": null,
            "bottom": null,
            "_model_module": "@jupyter-widgets/base",
            "top": null,
            "grid_column": null,
            "overflow_y": null,
            "overflow_x": null,
            "grid_auto_flow": null,
            "grid_area": null,
            "grid_template_columns": null,
            "flex": null,
            "_model_name": "LayoutModel",
            "justify_items": null,
            "grid_row": null,
            "max_height": null,
            "align_content": null,
            "visibility": null,
            "align_self": null,
            "height": null,
            "min_height": null,
            "padding": null,
            "grid_auto_rows": null,
            "grid_gap": null,
            "max_width": null,
            "order": null,
            "_view_module_version": "1.2.0",
            "grid_template_areas": null,
            "object_position": null,
            "object_fit": null,
            "grid_auto_columns": null,
            "margin": null,
            "display": null,
            "left": null
          }
        }
      }
    }
  },
  "cells": [
    {
      "cell_type": "code",
      "metadata": {
        "colab": {
          "base_uri": "https://localhost:8080/"
        },
        "id": "uiGjDqb2GthZ",
        "outputId": "1f879801-a4d1-4785-f1a3-93cb070ec97d"
      },
      "source": [
        "!pip install transformers==4.3.2\n",
        "import torch\n",
        "import io\n",
        "import torch.nn.functional as F\n",
        "import random\n",
        "import numpy as np\n",
        "import time\n",
        "import math\n",
        "import datetime\n",
        "import torch.nn as nn\n",
        "from transformers import *\n",
        "from torch.utils.data import TensorDataset, DataLoader, RandomSampler, SequentialSampler"
      ],
      "execution_count": null,
      "outputs": [
        {
          "output_type": "stream",
          "text": [
            "Collecting transformers==4.3.2\n",
            "  Downloading transformers-4.3.2-py3-none-any.whl (1.8 MB)\n",
            "\u001b[K     |████████████████████████████████| 1.8 MB 4.0 MB/s \n",
            "\u001b[?25hRequirement already satisfied: filelock in /usr/local/lib/python3.7/dist-packages (from transformers==4.3.2) (3.0.12)\n",
            "Requirement already satisfied: numpy>=1.17 in /usr/local/lib/python3.7/dist-packages (from transformers==4.3.2) (1.19.5)\n",
            "Collecting tokenizers<0.11,>=0.10.1\n",
            "  Downloading tokenizers-0.10.3-cp37-cp37m-manylinux_2_5_x86_64.manylinux1_x86_64.manylinux_2_12_x86_64.manylinux2010_x86_64.whl (3.3 MB)\n",
            "\u001b[K     |████████████████████████████████| 3.3 MB 42.8 MB/s \n",
            "\u001b[?25hRequirement already satisfied: importlib-metadata in /usr/local/lib/python3.7/dist-packages (from transformers==4.3.2) (4.6.1)\n",
            "Requirement already satisfied: packaging in /usr/local/lib/python3.7/dist-packages (from transformers==4.3.2) (21.0)\n",
            "Requirement already satisfied: regex!=2019.12.17 in /usr/local/lib/python3.7/dist-packages (from transformers==4.3.2) (2019.12.20)\n",
            "Requirement already satisfied: tqdm>=4.27 in /usr/local/lib/python3.7/dist-packages (from transformers==4.3.2) (4.41.1)\n",
            "Requirement already satisfied: requests in /usr/local/lib/python3.7/dist-packages (from transformers==4.3.2) (2.23.0)\n",
            "Collecting sacremoses\n",
            "  Downloading sacremoses-0.0.45-py3-none-any.whl (895 kB)\n",
            "\u001b[K     |████████████████████████████████| 895 kB 42.8 MB/s \n",
            "\u001b[?25hRequirement already satisfied: typing-extensions>=3.6.4 in /usr/local/lib/python3.7/dist-packages (from importlib-metadata->transformers==4.3.2) (3.7.4.3)\n",
            "Requirement already satisfied: zipp>=0.5 in /usr/local/lib/python3.7/dist-packages (from importlib-metadata->transformers==4.3.2) (3.5.0)\n",
            "Requirement already satisfied: pyparsing>=2.0.2 in /usr/local/lib/python3.7/dist-packages (from packaging->transformers==4.3.2) (2.4.7)\n",
            "Requirement already satisfied: chardet<4,>=3.0.2 in /usr/local/lib/python3.7/dist-packages (from requests->transformers==4.3.2) (3.0.4)\n",
            "Requirement already satisfied: certifi>=2017.4.17 in /usr/local/lib/python3.7/dist-packages (from requests->transformers==4.3.2) (2021.5.30)\n",
            "Requirement already satisfied: idna<3,>=2.5 in /usr/local/lib/python3.7/dist-packages (from requests->transformers==4.3.2) (2.10)\n",
            "Requirement already satisfied: urllib3!=1.25.0,!=1.25.1,<1.26,>=1.21.1 in /usr/local/lib/python3.7/dist-packages (from requests->transformers==4.3.2) (1.24.3)\n",
            "Requirement already satisfied: joblib in /usr/local/lib/python3.7/dist-packages (from sacremoses->transformers==4.3.2) (1.0.1)\n",
            "Requirement already satisfied: click in /usr/local/lib/python3.7/dist-packages (from sacremoses->transformers==4.3.2) (7.1.2)\n",
            "Requirement already satisfied: six in /usr/local/lib/python3.7/dist-packages (from sacremoses->transformers==4.3.2) (1.15.0)\n",
            "Installing collected packages: tokenizers, sacremoses, transformers\n",
            "Successfully installed sacremoses-0.0.45 tokenizers-0.10.3 transformers-4.3.2\n"
          ],
          "name": "stdout"
        }
      ]
    },
    {
      "cell_type": "code",
      "metadata": {
        "colab": {
          "base_uri": "https://localhost:8080/"
        },
        "id": "20KYryvMdFGI",
        "outputId": "8e2af6f9-df91-4761-ab22-b09b66a32c6a"
      },
      "source": [
        "if torch.cuda.is_available():    \n",
        "    # Tell PyTorch to use the GPU.    \n",
        "    device = torch.device(\"cuda\")\n",
        "    print('There are %d GPU(s) available.' % torch.cuda.device_count())\n",
        "    print('We will use the GPU:', torch.cuda.get_device_name(0))\n",
        "# If not...\n",
        "else:\n",
        "    print('No GPU available, using the CPU instead.')\n",
        "    device = torch.device(\"cpu\")"
      ],
      "execution_count": null,
      "outputs": [
        {
          "output_type": "stream",
          "text": [
            "No GPU available, using the CPU instead.\n"
          ],
          "name": "stdout"
        }
      ]
    },
    {
      "cell_type": "code",
      "metadata": {
        "colab": {
          "base_uri": "https://localhost:8080/"
        },
        "id": "exHUBGUuIYuD",
        "outputId": "33f7c2e5-894c-4b8e-c9b6-9c29aa4b932f"
      },
      "source": [
        "from google.colab import drive\n",
        "drive.mount('/content/gdrive')\n"
      ],
      "execution_count": null,
      "outputs": [
        {
          "output_type": "stream",
          "text": [
            "Mounted at /content/gdrive\n"
          ],
          "name": "stdout"
        }
      ]
    },
    {
      "cell_type": "code",
      "metadata": {
        "colab": {
          "base_uri": "https://localhost:8080/"
        },
        "id": "Sykd7kgnG6JA",
        "outputId": "ffb05b85-e964-4d89-cb6c-180db8725c21"
      },
      "source": [
        "%cd \"/content/gdrive/My Drive/\""
      ],
      "execution_count": null,
      "outputs": [
        {
          "output_type": "stream",
          "text": [
            "/content/gdrive/My Drive\n"
          ],
          "name": "stdout"
        }
      ]
    },
    {
      "cell_type": "code",
      "metadata": {
        "id": "qFDcqr1WaTpY"
      },
      "source": [
        "#--------------------------------\n",
        "#  Transformer parameters\n",
        "#--------------------------------\n",
        "max_seq_length = 64\n",
        "batch_size = 64\n",
        "\n",
        "#--------------------------------\n",
        "#  GAN-BERT specific parameters\n",
        "#--------------------------------\n",
        "# number of hidden layers in the generator, \n",
        "# each of the size of the output space\n",
        "num_hidden_layers_g = 1; \n",
        "# number of hidden layers in the discriminator, \n",
        "# each of the size of the input space\n",
        "num_hidden_layers_d = 1; \n",
        "# size of the generator's input noisy vectors\n",
        "noise_size = 100\n",
        "# dropout to be applied to discriminator's input vectors\n",
        "out_dropout_rate = 0.2\n",
        "\n",
        "# Replicate labeled data to balance poorly represented datasets, \n",
        "# e.g., less than 1% of labeled material\n",
        "apply_balance = True\n",
        "\n",
        "#--------------------------------\n",
        "#  Optimization parameters\n",
        "#--------------------------------\n",
        "learning_rate_discriminator = 5e-5\n",
        "learning_rate_generator = 5e-5\n",
        "epsilon = 1e-8\n",
        "num_train_epochs = 10\n",
        "multi_gpu = True\n",
        "# Scheduler\n",
        "apply_scheduler = False\n",
        "warmup_proportion = 0.1\n",
        "# Print\n",
        "print_each_n_step = 10"
      ],
      "execution_count": null,
      "outputs": []
    },
    {
      "cell_type": "code",
      "metadata": {
        "id": "BKYzMhALHD3M"
      },
      "source": [
        "#------------------------------\n",
        "#   The Generator as in \n",
        "#   https://www.aclweb.org/anthology/2020.acl-main.191/\n",
        "#   https://github.com/crux82/ganbert\n",
        "#------------------------------\n",
        "class Generator(nn.Module):\n",
        "    def __init__(self, noise_size=100, output_size=512, hidden_sizes=[512], dropout_rate=0.1):\n",
        "        super(Generator, self).__init__()\n",
        "        layers = []\n",
        "        hidden_sizes = [noise_size] + hidden_sizes\n",
        "        for i in range(len(hidden_sizes)-1):\n",
        "            layers.extend([nn.Linear(hidden_sizes[i], hidden_sizes[i+1]), nn.LeakyReLU(0.2, inplace=True), nn.Dropout(dropout_rate)])\n",
        "\n",
        "        layers.append(nn.Linear(hidden_sizes[-1],output_size))\n",
        "        self.layers = nn.Sequential(*layers)\n",
        "\n",
        "    def forward(self, noise):\n",
        "        output_rep = self.layers(noise)\n",
        "        return output_rep\n",
        "\n",
        "#------------------------------\n",
        "#   The Discriminator\n",
        "#   https://www.aclweb.org/anthology/2020.acl-main.191/\n",
        "#   https://github.com/crux82/ganbert\n",
        "#------------------------------\n",
        "class Discriminator(nn.Module):\n",
        "    def __init__(self, input_size=512, hidden_sizes=[512], num_labels=2, dropout_rate=0.1):\n",
        "        super(Discriminator, self).__init__()\n",
        "        self.input_dropout = nn.Dropout(p=dropout_rate)\n",
        "        layers = []\n",
        "        hidden_sizes = [input_size] + hidden_sizes\n",
        "        for i in range(len(hidden_sizes)-1):\n",
        "            layers.extend([nn.Linear(hidden_sizes[i], hidden_sizes[i+1]), nn.LeakyReLU(0.2, inplace=True), nn.Dropout(dropout_rate)])\n",
        "\n",
        "        self.layers = nn.Sequential(*layers) #per il flatten\n",
        "        self.logit = nn.Linear(hidden_sizes[-1],num_labels+1) # +1 for the probability of this sample being fake/real.\n",
        "        self.softmax = nn.Softmax(dim=-1)\n",
        "\n",
        "    def forward(self, input_rep):\n",
        "        input_rep = self.input_dropout(input_rep)\n",
        "        last_rep = self.layers(input_rep)\n",
        "        logits = self.logit(last_rep)\n",
        "        probs = self.softmax(logits)\n",
        "        return last_rep, logits, probs"
      ],
      "execution_count": null,
      "outputs": []
    },
    {
      "cell_type": "code",
      "metadata": {
        "id": "X_tsfD9zHD6q"
      },
      "source": [
        "def generate_data_loader(input_examples, label_masks, label_map, do_shuffle = False, balance_label_examples = False):\n",
        "  '''\n",
        "  Generate a Dataloader given the input examples, eventually masked if they are \n",
        "  to be considered NOT labeled.\n",
        "  '''\n",
        "  examples = []\n",
        "\n",
        "  # Count the percentage of labeled examples  \n",
        "  num_labeled_examples = 0\n",
        "  for label_mask in label_masks:\n",
        "    if label_mask: \n",
        "      num_labeled_examples += 1\n",
        "  label_mask_rate = num_labeled_examples/len(input_examples)\n",
        "\n",
        "  # if required it applies the balance\n",
        "  for index, ex in enumerate(input_examples): \n",
        "    if label_mask_rate == 1 or not balance_label_examples:\n",
        "      examples.append((ex, label_masks[index]))\n",
        "    else:\n",
        "      # IT SIMULATE A LABELED EXAMPLE\n",
        "      if label_masks[index]:\n",
        "        balance = int(1/label_mask_rate)\n",
        "        balance = int(math.log(balance,2))\n",
        "        if balance < 1:\n",
        "          balance = 1\n",
        "        for b in range(0, int(balance)):\n",
        "          examples.append((ex, label_masks[index]))\n",
        "      else:\n",
        "        examples.append((ex, label_masks[index]))\n",
        "  \n",
        "  #-----------------------------------------------\n",
        "  # Generate input examples to the Transformer\n",
        "  #-----------------------------------------------\n",
        "  input_ids = []\n",
        "  input_mask_array = []\n",
        "  label_mask_array = []\n",
        "  label_id_array = []\n",
        "\n",
        "  # Tokenization \n",
        "  for (text, label_mask) in examples:\n",
        "    encoded_sent = tokenizer.encode(text[0], add_special_tokens=True, max_length=max_seq_length, padding=\"max_length\", truncation=True)\n",
        "    input_ids.append(encoded_sent)\n",
        "    label_id_array.append(label_map[text[1]])\n",
        "    label_mask_array.append(label_mask)\n",
        "  \n",
        "  # Attention to token (to ignore padded input wordpieces)\n",
        "  for sent in input_ids:\n",
        "    att_mask = [int(token_id > 0) for token_id in sent]                          \n",
        "    input_mask_array.append(att_mask)\n",
        "  # Convertion to Tensor\n",
        "  input_ids = torch.tensor(input_ids) \n",
        "  input_mask_array = torch.tensor(input_mask_array)\n",
        "  label_id_array = torch.tensor(label_id_array, dtype=torch.long)\n",
        "  label_mask_array = torch.tensor(label_mask_array)\n",
        "\n",
        "  # Building the TensorDataset\n",
        "  dataset = TensorDataset(input_ids, input_mask_array, label_id_array, label_mask_array)\n",
        "\n",
        "  if do_shuffle:\n",
        "    sampler = RandomSampler\n",
        "  else:\n",
        "    sampler = SequentialSampler\n",
        "\n",
        "  # Building the DataLoader\n",
        "  return DataLoader(\n",
        "              dataset,  # The training samples.\n",
        "              sampler = sampler(dataset), \n",
        "              batch_size = batch_size) # Trains with this batch size.\n"
      ],
      "execution_count": null,
      "outputs": []
    },
    {
      "cell_type": "code",
      "metadata": {
        "id": "7Uls9yTCHD-a"
      },
      "source": [
        "#Predict\n",
        "label_list = ['user_department',\n",
        " 'user_country',\n",
        " 'payday',\n",
        " 'rewards_balance',\n",
        " 'todo_list_update',\n",
        " 'rollover_401k',\n",
        " 'w2',\n",
        " 'spending_history',\n",
        " 'timer',\n",
        " 'find_phone',\n",
        " 'whisper_mode',\n",
        " 'todo_list',\n",
        " 'measurement_conversion',\n",
        " 'flip_coin',\n",
        " 'interest_rate',\n",
        " 'translate',\n",
        " 'freeze_account',\n",
        " 'international_visa',\n",
        " 'definition',\n",
        " 'maybe',\n",
        " 'carry_on',\n",
        " 'pin_change',\n",
        " 'pto_request_status',\n",
        " 'car_rental',\n",
        " 'insurance',\n",
        " 'jump_start',\n",
        " 'transfer',\n",
        " 'share_location',\n",
        " 'ingredients_list',\n",
        " 'min_payment',\n",
        " 'card_declined',\n",
        " 'pto_balance',\n",
        " 'change_volume',\n",
        " 'uber',\n",
        " 'directions',\n",
        " 'account_blocked',\n",
        " 'meal_suggestion',\n",
        " 'update_playlist',\n",
        " 'tell_joke',\n",
        " 'last_maintenance',\n",
        " 'restaurant_suggestion',\n",
        " 'goodbye',\n",
        " 'thank_you',\n",
        " 'insurance_change',\n",
        " 'plug_type',\n",
        " 'pto_used',\n",
        " 'pay_bill',\n",
        " 'improve_credit_score',\n",
        " 'bill_balance',\n",
        " 'food_last',\n",
        " 'cancel_reservation',\n",
        " 'income',\n",
        " 'exchange_rate',\n",
        " 'repeat',\n",
        " 'change_speed',\n",
        " 'weather',\n",
        " 'calendar',\n",
        " 'do_you_have_pets',\n",
        " 'order_checks',\n",
        " 'calculator',\n",
        " 'traffic',\n",
        " 'shopping_list',\n",
        " 'next_song',\n",
        " 'roll_dice',\n",
        " 'change_ai_name',\n",
        " 'ingredient_substitution',\n",
        " 'who_do_you_work_for',\n",
        " 'how_old_are_you',\n",
        " 'accept_reservations',\n",
        " 'travel_alert',\n",
        " 'sync_device',\n",
        " 'damaged_card',\n",
        " 'replacement_card_duration',\n",
        " 'where_are_you_from',\n",
        " 'credit_limit_change',\n",
        " 'what_can_i_ask_you',\n",
        " 'next_holiday',\n",
        " 'distance',\n",
        " 'report_lost_card',\n",
        " 'fun_fact',\n",
        " 'what_are_your_hobbies',\n",
        " 'report_fraud',\n",
        " 'who_made_you',\n",
        " 'international_fees',\n",
        " 'redeem_rewards',\n",
        " 'order_status',\n",
        " 'shopping_list_update',\n",
        " 'credit_score',\n",
        " 'yes',\n",
        " 'calories',\n",
        " 'taxes',\n",
        " 'how_busy',\n",
        " 'reminder_update',\n",
        " 'balance',\n",
        " 'flight_status',\n",
        " 'pto_request',\n",
        " 'alarm',\n",
        " 'book_flight',\n",
        " 'confirm_reservation',\n",
        " 'change_user_name',\n",
        " 'no',\n",
        " 'schedule_meeting',\n",
        " 'book_hotel',\n",
        " 'transactions',\n",
        " 'play_music',\n",
        " 'cook_time',\n",
        " 'cancel',\n",
        " 'gas',\n",
        " 'meaning_of_life',\n",
        " 'meeting_schedule',\n",
        " 'restaurant_reviews',\n",
        " 'tire_change',\n",
        " 'oil_change_when',\n",
        " 'gas_type',\n",
        " 'change_accent',\n",
        " 'are_you_a_bot',\n",
        " 'apr',\n",
        " 'tire_pressure',\n",
        " 'time',\n",
        " 'reset_settings',\n",
        " 'mpg',\n",
        " 'oil_change_how',\n",
        " 'current_location',\n",
        " 'greeting',\n",
        " 'nutrition_info',\n",
        " 'application_status',\n",
        " 'new_card',\n",
        " 'what_is_your_name',\n",
        " 'change_language',\n",
        " 'order',\n",
        " 'schedule_maintenance',\n",
        " 'travel_notification',\n",
        " 'text',\n",
        " 'travel_suggestion',\n",
        " 'make_call',\n",
        " 'smart_home',\n",
        " 'recipe',\n",
        " 'restaurant_reservation',\n",
        " 'user_name',\n",
        " 'bill_due',\n",
        " 'what_song',\n",
        " 'lost_luggage',\n",
        " 'spelling',\n",
        " 'routing',\n",
        " 'calendar_update',\n",
        " 'direct_deposit',\n",
        " 'reminder',\n",
        " 'credit_limit',\n",
        " 'vaccines',\n",
        " 'timezone',\n",
        " 'expiration_date',\n",
        " 'date',\n",
        " 'UNK_UNK']\n",
        "label_map = {}\n",
        "label_reverse_map ={}\n",
        "for (i, label) in enumerate(label_list):\n",
        "  label_map[label] = i\n",
        "  label_reverse_map[i]=label\n"
      ],
      "execution_count": null,
      "outputs": []
    },
    {
      "cell_type": "code",
      "metadata": {
        "id": "GalKeK3THEBt"
      },
      "source": [
        "transformer = AutoModel.from_pretrained(\"./transf2\")\n"
      ],
      "execution_count": null,
      "outputs": []
    },
    {
      "cell_type": "code",
      "metadata": {
        "colab": {
          "base_uri": "https://localhost:8080/",
          "height": 164,
          "referenced_widgets": [
            "faeecbc12b5747138a2d817c9f6a2fd5",
            "d2f0fea20d9f445e896d28be98e64b7f",
            "fb470b9e5a4443b3b4ab257e2ffc2b97",
            "0674fc8bf2bd4506b0fafe0a5ee854fe",
            "92630139305f4dafad8739f7b6624619",
            "f6dc0788d39141adb23f104014849c14",
            "c000209ddccc48e587097aba2acb18ff",
            "4de2a5ff74754e44b41c27bce3fc97b5",
            "a4c1e59b58df41fc98d50956a3a93321",
            "94beb769cb7d4db0a49cadee82436e29",
            "55bbc3b046f64600b06f0e302da19bbb",
            "08ef59d970784fe0a48622493822c898",
            "ff92440bf5944276b25671679045d7cc",
            "c42f7abf50824a69bf534cc3c8519947",
            "842a61d70dac4dda8d3faf38b9d9c151",
            "52c745cb5a744fdc9a581f791d426230",
            "6806f5d18c1c480da134e5e74de8b20c",
            "ccbece60e65d476aa380c0f7c49a2312",
            "9147dc8a1b95433f907a7c979757d493",
            "06c436046c134f609d776e6bd096143d",
            "cee813b276324cbca6a8feb82af08e11",
            "227391d3b6294cd28d82f9238ba6e011",
            "849272acbb6346bdbe847f6a0342818c",
            "3311af3309444a9ea81e92eaca3eab10"
          ]
        },
        "id": "40UafmkTHEFL",
        "outputId": "4d36314c-8147-4941-d925-b6bc40f9d38c"
      },
      "source": [
        "model_name = \"bert-base-cased\"\n",
        "tokenizer = AutoTokenizer.from_pretrained(\"bert-base-cased\")"
      ],
      "execution_count": null,
      "outputs": [
        {
          "output_type": "display_data",
          "data": {
            "application/vnd.jupyter.widget-view+json": {
              "model_id": "faeecbc12b5747138a2d817c9f6a2fd5",
              "version_minor": 0,
              "version_major": 2
            },
            "text/plain": [
              "HBox(children=(FloatProgress(value=0.0, description='Downloading', max=570.0, style=ProgressStyle(description_…"
            ]
          },
          "metadata": {
            "tags": []
          }
        },
        {
          "output_type": "stream",
          "text": [
            "\n"
          ],
          "name": "stdout"
        },
        {
          "output_type": "display_data",
          "data": {
            "application/vnd.jupyter.widget-view+json": {
              "model_id": "a4c1e59b58df41fc98d50956a3a93321",
              "version_minor": 0,
              "version_major": 2
            },
            "text/plain": [
              "HBox(children=(FloatProgress(value=0.0, description='Downloading', max=213450.0, style=ProgressStyle(descripti…"
            ]
          },
          "metadata": {
            "tags": []
          }
        },
        {
          "output_type": "stream",
          "text": [
            "\n"
          ],
          "name": "stdout"
        },
        {
          "output_type": "display_data",
          "data": {
            "application/vnd.jupyter.widget-view+json": {
              "model_id": "6806f5d18c1c480da134e5e74de8b20c",
              "version_minor": 0,
              "version_major": 2
            },
            "text/plain": [
              "HBox(children=(FloatProgress(value=0.0, description='Downloading', max=435797.0, style=ProgressStyle(descripti…"
            ]
          },
          "metadata": {
            "tags": []
          }
        },
        {
          "output_type": "stream",
          "text": [
            "\n"
          ],
          "name": "stdout"
        }
      ]
    },
    {
      "cell_type": "code",
      "metadata": {
        "id": "woWaGYC9aszl"
      },
      "source": [
        "config = AutoConfig.from_pretrained(model_name)\n",
        "hidden_size = int(config.hidden_size)\n",
        "# Define the number and width of hidden layers\n",
        "hidden_levels_g = [hidden_size for i in range(0, num_hidden_layers_g)]\n",
        "hidden_levels_d = [hidden_size for i in range(0, num_hidden_layers_d)]"
      ],
      "execution_count": null,
      "outputs": []
    },
    {
      "cell_type": "code",
      "metadata": {
        "colab": {
          "base_uri": "https://localhost:8080/"
        },
        "id": "NpyqJUNDHEIB",
        "outputId": "554f2bba-c3cf-4f63-8c37-1ed30ced05bf"
      },
      "source": [
        "generator2 = Generator(noise_size=noise_size, output_size=hidden_size, hidden_sizes=hidden_levels_g, dropout_rate=out_dropout_rate)\n",
        "generator2.load_state_dict(torch.load(\"./generator2.pt\",map_location=torch.device('cpu')))\n",
        "generator2.eval()"
      ],
      "execution_count": null,
      "outputs": [
        {
          "output_type": "execute_result",
          "data": {
            "text/plain": [
              "Generator(\n",
              "  (layers): Sequential(\n",
              "    (0): Linear(in_features=100, out_features=768, bias=True)\n",
              "    (1): LeakyReLU(negative_slope=0.2, inplace=True)\n",
              "    (2): Dropout(p=0.2, inplace=False)\n",
              "    (3): Linear(in_features=768, out_features=768, bias=True)\n",
              "  )\n",
              ")"
            ]
          },
          "metadata": {
            "tags": []
          },
          "execution_count": 15
        }
      ]
    },
    {
      "cell_type": "code",
      "metadata": {
        "colab": {
          "base_uri": "https://localhost:8080/"
        },
        "id": "5npnmFa9HEK_",
        "outputId": "12144522-f39c-4df0-b474-a0623c4cda42"
      },
      "source": [
        "discriminator2 = Discriminator(input_size=hidden_size, hidden_sizes=hidden_levels_d, num_labels=len(label_list), dropout_rate=out_dropout_rate)\n",
        "discriminator2.load_state_dict(torch.load(\"./discriminator2.pt\",map_location=torch.device('cpu')))\n",
        "discriminator2.eval()"
      ],
      "execution_count": null,
      "outputs": [
        {
          "output_type": "execute_result",
          "data": {
            "text/plain": [
              "Discriminator(\n",
              "  (input_dropout): Dropout(p=0.2, inplace=False)\n",
              "  (layers): Sequential(\n",
              "    (0): Linear(in_features=768, out_features=768, bias=True)\n",
              "    (1): LeakyReLU(negative_slope=0.2, inplace=True)\n",
              "    (2): Dropout(p=0.2, inplace=False)\n",
              "  )\n",
              "  (logit): Linear(in_features=768, out_features=154, bias=True)\n",
              "  (softmax): Softmax(dim=-1)\n",
              ")"
            ]
          },
          "metadata": {
            "tags": []
          },
          "execution_count": 16
        }
      ]
    },
    {
      "cell_type": "code",
      "metadata": {
        "id": "icSmeAEwHEO0"
      },
      "source": [
        "test_examples = [('Which department has responded the most?', 'user_department'), ('Students from which department think pressure is the reason for cheating?', 'user_department'), ('Department with international students', 'user_department'), ('Which departments have students who think pressure causes cheating?', 'user_department'), ('Department with local students', 'user_department'), ('Department with students of age less than 30', 'user_department'), ('Department related to health', 'user_department'), ('Which department has local students?', 'user_department'), ('Which department have students of age less than 20?p', 'user_department'), ('Students from which country has responded the most?', 'user_country'), ('Students from which country think pressure is the reason for cheating?', 'user_country'), ('Which country are most international students from', 'user_country'), ('Which country has students who think pressure causes cheating?', 'user_country'), ('country with students of age less than 30', 'user_country'), ('country which is related to health', 'user_country'), ('Which country are most students from?', 'user_country'), ('Which countries have students of age less than 20?p', 'user_country'), ('i want to know when i was last paid', 'payday'), ('do you know how many rewards points are currently on my discover card', 'rewards_balance'), ('on my to do list, add exercising', 'todo_list_update'), ('help me roll over my 401k', 'rollover_401k'), ('can i get a w2 form online', 'w2'), ('how much have i spent on clothes recently', 'spending_history'), ('you need to set the timer for me', 'timer'), ('how can i find my phone', 'find_phone'), ('use whisper voice', 'whisper_mode'), ('check my domestic to do list for carpet cleaning', 'todo_list'), ('i wanna know how many teaspoons are in a tablespoon', 'measurement_conversion'), ('go ahead and flip a coin, i am calling tails', 'flip_coin'), ('what is the interest rate at chase', 'interest_rate'), ('what do you call a subway if you were english', 'translate'), ('put a freeze on my bank account', 'freeze_account'), ('does mexico require an international visa', 'international_visa'), ('what is let it be mean', 'definition'), (\"i don't really know\", 'maybe'), ('what is the date of my last paycheck', 'payday'), (\"what's restricted in my carry-on with united\", 'carry_on'), ('is there a way to get my pin number', 'pin_change'), ('has my vacation request been approved', 'pto_request_status'), ('how can i rent a car in boston', 'car_rental'), ('tell me what my health plan is called', 'insurance'), ('find repair shop that will diagnosis dead car battery', 'jump_start'), ('send 2000 dollars between chase and rabobank accounts', 'transfer'), ('can you let ben and jerry know my current location', 'share_location'), ('what ingredients do i need for philly cheesesteaks', 'ingredients_list'), (\"what's the minimum required payment on my visa card\", 'min_payment'), ('either or should work', 'maybe'), ('at target trying to buy a mug and my card was declined', 'card_declined'), ('how many pto days do i have for the year', 'pto_balance'), ('lower the volume', 'change_volume'), ('uber, i have 3 people who are going to union station', 'uber'), ('please tell me how much i have spent recently', 'spending_history'), ('how do i get to the closest starbucks', 'directions'), ('how do i convert four inches into centimeters', 'measurement_conversion'), ('i think my account is blocked but i do not know the reason', 'account_blocked'), (\"i'd like you to give me an idea for a meal from iceland\", 'meal_suggestion'), ('i would like to add you say by lauren daigle to my playlist', 'update_playlist'), ('tell me a joke about animals', 'tell_joke'), ('do you know how long its been since i had my oil changed and a tune up', 'last_maintenance'), ('which restaurants in reno are good for sushi', 'restaurant_suggestion'), ('buhbye', 'goodbye'), ('i appreciate the assistance', 'thank_you'), ('are there some good thai restaurants in san antonio', 'restaurant_suggestion'), ('my account is blocked, help me figure out why', 'account_blocked'), ('help me find new insurance providers', 'insurance_change'), ('how many kilos are in 150 pounds', 'measurement_conversion'), ('do i need a socket converter in england', 'plug_type'), (\"what is the total number of vacation days i've used\", 'pto_used'), ('i want to know if i shouldget a tourist visa for italy', 'international_visa'), ('schedule an uber to the bean', 'uber'), ('i need help paying my hoa bill', 'pay_bill'), ('what do i need to cook chicken soup', 'ingredients_list'), ('how do i build my credit score', 'improve_credit_score'), ('how much is my electric bill for this month', 'bill_balance'), ('is taking out the trash on my to do list', 'todo_list'), ('my chinese food has sat in the fridge since friday but can i still eat it', 'food_last'), ('please tell wanda where i am now', 'share_location'), (\"because of circumstances i don't need my reservation anymore\", 'cancel_reservation'), ('i would like to know what my salary is at this time', 'income'), ('what is the total amount that i owe to sony and verizon', 'bill_balance'), ('what is the quantity of dollars i receive for trading 6 yens', 'exchange_rate'), (\"what are delta's carry-on restrictions\", 'carry_on'), ('would you repeat that', 'repeat'), ('speak faster', 'change_speed'), (\"what's the climate like in chicago\", 'weather'), ('i want to pay my bill, please', 'pay_bill'), ('what items do i have on my calendar for easter', 'calendar'), ('what animals do you have', 'do_you_have_pets'), ('please submit an order for new checks on my pnc money market account', 'order_checks'), ('is there a carry on weight limit', 'carry_on'), ('pull up my calendar and tell me what i have scheduled for march 30', 'calendar'), ('what is 5 x 4', 'calculator'), ('let me know the number of vacation days i have', 'pto_balance'), ('please share the definition of episcopalian', 'definition'), ('give me an idea of traffic on the way to the doctors office at 6', 'traffic'), ('what did i put on my shopping list so far', 'shopping_list'), ('what is the next song to be played', 'next_song'), (\"what's on my agenda for tomorrow\", 'calendar'), ('please roll a 6 sided dice', 'roll_dice'), ('can we change your name to lisa', 'change_ai_name'), ('i didnt hear what you just said, can you say it again', 'repeat'), ('i have no more checks, how can i order more', 'order_checks'), ('locate my phone', 'find_phone'), ('can you sub half and half for heavy whipping cream', 'ingredient_substitution'), ('who do you work for', 'who_do_you_work_for'), ('how long have you been alive for', 'how_old_are_you'), ('do you know if outback allows reservations', 'accept_reservations'), ('what alerts are listed for traveling to paris', 'travel_alert'), ('does moscow require travel visas to visit', 'international_visa'), ('i want that volume bumped up to 4', 'change_volume'), ('please link up to my cell', 'sync_device'), ('could you direct me to any good places in kentucky that serve sushi', 'restaurant_suggestion'), ('my card is not working and i need to let them know', 'damaged_card'), ('can you get me an uber to the science museum', 'uber'), ('how soon will you mail me a new card', 'replacement_card_duration'), ('where were you manufactured', 'where_are_you_from'), ('can my limit be increased for my visa', 'credit_limit_change'), ('how do you order new checks', 'order_checks'), ('what can i ask you to accomplish', 'what_can_i_ask_you'), ('could you skip to the next song on this playlist', 'next_song'), ('tell me when i will next have the day off', 'next_holiday'), (\"how long is the drive from sfo to fisherman's wharf\", 'distance'), ('how old are you', 'how_old_are_you'), ('where to report lost discover credit card', 'report_lost_card'), ('help, i cannot find my phone', 'find_phone'), ('how much time to reach doctors office', 'distance'), ('what is the next holiday', 'next_holiday'), ('increase volume to 4', 'change_volume'), ('what should i do with an unusable and damaged card', 'damaged_card'), ('can you tell me a fun fact about elephants', 'fun_fact'), ('do you have any hobbies', 'what_are_your_hobbies'), (\"i'd like to rent an automobile in pittsburgh from this tuesday until next thursday can i do that\", 'car_rental'), (\"i can't locate my mastercard and i want to report it as lost, please\", 'report_lost_card'), ('i have a fraudulent transaction from red robin on my account', 'report_fraud'), ('which company is responsible for your design', 'who_made_you'), ('what date did i receive my last paycheck', 'payday'), ('does home have a starbucks nearby', 'directions'), ('will i get charged extra if i use my card while in italy', 'international_fees'), ('what do i do to redeem credit card points', 'redeem_rewards'), ('can i still make changes to my order, or has it already been shipped', 'order_status'), ('say it one more time', 'repeat'), ('good answer, thanks for providing it', 'thank_you'), ('how many holiday days do i have left to use', 'pto_balance'), ('i would like you to add milk if it is not on my shopping list already', 'shopping_list_update'), ('what things do you enjoy doing', 'what_are_your_hobbies'), ('really dont know', 'maybe'), ('how many vacation days are available to me', 'pto_balance'), ('are you paid by somebody', 'who_do_you_work_for'), ('how does my credit score look', 'credit_score'), (\"i think that's true\", 'yes'), ('please give me the minimum payment total for my sprint phone bill', 'min_payment'), ('get me an uber to chilis', 'uber'), ('please transfer $x from checking to saving', 'transfer'), ('how many calories in meatloaf', 'calories'), ('am i your manager', 'who_do_you_work_for'), ('tell me if there is an event called annual physical in my calendar', 'calendar'), ('i need to know how much i should pay in tax', 'taxes'), ('is there an extra fee for using my card in costa rica', 'international_fees'), ('how long will it take to be seated at the flying w', 'how_busy'), ('how many kilos are in 20 pounds', 'measurement_conversion'), ('i need to take out the trash please remind me', 'reminder_update'), ('what is my money market account balance', 'balance'), ('how do you say hello in french', 'translate'), ('tell me when my flight is landing', 'flight_status'), ('can you let me know if it will be warm this week', 'weather'), ('please let me know how much my gas bill is', 'bill_balance'), ('track my package now please', 'order_status'), ('get the details on the pto i have used', 'pto_used'), ('where do i make a vacation request', 'pto_request'), ('describe the meaning of \"dog', 'definition'), ('i just got a new job and need help transferring my 401k', 'rollover_401k'), ('please cancel the table for two at burger king', 'cancel_reservation'), ('set my alarm for 5pm', 'alarm'), ('do you have another job', 'who_do_you_work_for'), ('remind me tommorow at 3pm i have a doctors appointment', 'reminder_update'), ('for the dates april 1st to the 7th, find me round trip air tickets from la to sfo', 'book_flight'), ('my card split in half, how do i report it', 'damaged_card'), ('are car rentals available out of new york from march 2 to march 3', 'car_rental'), ('whats the most recent status for my virgin air flight', 'flight_status'), ('how long will it take to walk to the safeway in the strip mall', 'distance'), ('is my reservation confirmed for lu shi at 7 pm', 'confirm_reservation'), ('i left my phone somewhere', 'find_phone'), ('will i be charged if i use the card in australia', 'international_fees'), ('i demagnetized my card and want to report it', 'damaged_card'), ('may you repeat what you said again', 'repeat'), ('yes that is correct', 'yes'), ('i need for you to connect to my phone', 'sync_device'), ('im sorry can you repeat yourself', 'repeat'), ('how do i keep good credit', 'improve_credit_score'), (\"i'm called tim\", 'change_user_name'), ('what is my total annual income', 'income'), ('negative', 'no'), ('can you schedule a meeting with damon for 1', 'schedule_meeting'), ('help me find a good reviews hotel in la', 'book_hotel'), (\"if i'm using citibank, what is the interest rate\", 'interest_rate'), ('i need to know the calorie content in a piece of pepperoni pizza', 'calories'), ('i want to see the list of transaction on my bank of hawaii', 'transactions'), ('how much of my pto have i depleted', 'pto_used'), ('play me the playlist entitled jazz', 'play_music'), ('get me roundtrip flight information for flights from dallas to houston for june 8 and june 17', 'book_flight'), ('what is my income from work', 'income'), ('change my reservation with carl at umami to canceled', 'cancel_reservation'), ('what state were you born in', 'where_are_you_from'), ('book me an uber to olive garden', 'uber'), ('what is the wait time at this restaurant', 'how_busy'), ('how long would it take to get to times square by bus', 'distance'), ('say a fun fact about mt everest', 'fun_fact'), ('how long should i fry an egg for', 'cook_time'), ('good seeing you', 'goodbye'), (\"i can't find my phone do you know where it is\", 'find_phone'), (\"actually forget that i don't need it\", 'cancel'), ('what amount of gas is in my car', 'gas'), ('what is my current gas level', 'gas'), ('are you now working for me', 'who_do_you_work_for'), ('tell me some amazing trivia about radios', 'fun_fact'), ('can you put on music by beach house', 'play_music'), ('define the meaning of life', 'meaning_of_life'), ('tell me the lowest amount i can pay for my cable bill', 'min_payment'), ('explain to me how to rollover my 401k', 'rollover_401k'), ('what is 20 + 20', 'calculator'), ('please show me what transactions i made on the first of this month', 'transactions'), ('what is the weather report for seattle', 'weather'), ('make a payment on the electric bill', 'pay_bill'), ('when is my meeting with dan scheduled for', 'meeting_schedule'), ('how many meetings do i have today between noon and one', 'meeting_schedule'), ('how many points have been earned on my amex', 'rewards_balance'), (\"what's traffic usually like around 5pm going to the bank\", 'traffic'), ('is it too much trouble to put a stop on my bank account', 'freeze_account'), (\"what do people think about the sandwiches at wendy's\", 'restaurant_reviews'), ('get an uber to the airport', 'uber'), ('can you share the meaning of life', 'meaning_of_life'), ('how much longer until i have to change my tires', 'tire_change'), (\"i have how many tier credits on my caesar's card\", 'rewards_balance'), ('i appreciate your help!', 'thank_you'), (\"how long does it take to get to spago's in los angeles\", 'distance'), ('can my credit limit be increased to one thousand dollars', 'credit_limit_change'), ('i appreciate that', 'thank_you'), ('will i pay extra if i use my card in juarez', 'international_fees'), ('when would you recommend i get my oil changed', 'oil_change_when'), ('slow your speech down', 'change_speed'), (\"i'd like to me told the meaning of life\", 'meaning_of_life'), ('i need to know what kind of gas to put in this car', 'gas_type'), ('are you from the uk', 'where_are_you_from'), ('switch over from female to the male voice', 'change_accent'), ('for anew card to be mailed to me, how long does it take', 'replacement_card_duration'), ('due to fraudulent activity on my card i need to make a report', 'report_fraud'), ('is this a computer right now or a human being', 'are_you_a_bot'), ('what is the apr to my credit card', 'apr'), ('play that song called colony of birchman', 'play_music'), ('decrease volume', 'change_volume'), ('can you locate my phone for me', 'find_phone'), ('please measure my tire pressure', 'tire_pressure'), ('what are you familiar with', 'what_can_i_ask_you'), ('research the meaning of life', 'meaning_of_life'), ('what percentage of my income is taken out for taxes', 'taxes'), ('can you help me book a car rental in paris', 'car_rental'), ('will i receive a fee if i use my card in ireland', 'international_fees'), ('websites that share credit ratings', 'credit_score'), ('complete a transaction from savings to checking of $20000', 'transfer'), ('let me know when should i get my tires changed next', 'tire_change'), ('are you able to track a phone', 'find_phone'), ('what does it say on the clock', 'time'), (\"can you tell me what's the car's tire pressure\", 'tire_pressure'), (\"what's the forecast like for pittsburgh\", 'weather'), ('give my my current points on my marriot rewards card', 'rewards_balance'), ('what kind of gas does my car use', 'gas_type'), ('discontinue please', 'cancel'), ('what must i do to report my card lost', 'report_lost_card'), ('roll a die with 6 sides', 'roll_dice'), ('change back to your factory settins', 'reset_settings'), ('do you know the fuel economy of this car', 'mpg'), ('how do i build credit', 'improve_credit_score'), ('forget this song and go to the next', 'next_song'), ('i intend to learn how to change oil in my car', 'oil_change_how'), (\"please tell me if my reservation is scheduled for sally's at 3 pm\", 'confirm_reservation'), ('i think i made a fraudulent transaction', 'report_fraud'), ('may i know my insurance benefits', 'insurance'), ('are there any meeting rooms free from 10:00 am until 10:30 am', 'schedule_meeting'), ('how many carry ons can i take on a flight with american airlines to seattle', 'carry_on'), (\"tell me the subjects you're aware of\", 'what_can_i_ask_you'), ('please give me my gps coordinates', 'current_location'), ('tell me the meeting schdule please', 'meeting_schedule'), ('i wanna know the gas i need to fill this car up with', 'gas_type'), ('might be true, might be false', 'maybe'), ('i went to target to buy a mug but my card did not work', 'card_declined'), ('yes, that is accurate', 'yes'), ('what are my gps coordinates at this location', 'current_location'), ('i want you to speak to me faster', 'change_speed'), (\"hello how's it going\", 'greeting'), ('help me change my insurance plan', 'insurance_change'), ('connect with my phone please', 'sync_device'), ('name some awesome things about dogs', 'fun_fact'), ('your answer was enjoyable', 'thank_you'), ('timer for 5 minutes', 'timer'), (\"what's the facts about nutrients in rice milk\", 'nutrition_info'), ('i have suspicious charges on my discovery card', 'report_fraud'), ('put dr feelgood by motley crue on my playlist', 'update_playlist'), (\"call hr so i can figure out how many days off i've taken\", 'pto_used'), (\"does chili's take reservations\", 'accept_reservations'), ('approximately how long does it take to get to the resort in miami', 'distance'), ('you have to connect to my phone', 'sync_device'), ('do you have any suggestions as to what i should cook for dinner', 'meal_suggestion'), ('let me know how much gas i have', 'gas'), ('do they take reservations at bar tartine', 'accept_reservations'), ('update me on my vacation request', 'pto_request_status'), ('how much longer until my next day off', 'next_holiday'), ('tell me straight if it has been processed or not', 'application_status'), ('please increase the speed of your talking', 'change_speed'), (\"i'd like to get on a new united healthcare plan\", 'insurance_change'), ('is it possible to rent a car from new york on 3/2/19 to 3/5/19', 'car_rental'), ('credit limit change', 'credit_limit_change'), ('are there any meetings for today on my calendar', 'meeting_schedule'), ('please apply cc visa card for me', 'new_card'), (\"i'll talk to you later ai\", 'goodbye'), ('how can i get my year end summary for taxes', 'w2'), ('can you locate my w-2', 'w2'), ('would you let me know what flights are available out of dallas to el paso on march 20 for under $400', 'book_flight'), ('what kind of gas should i put in this car', 'gas_type'), ('provide the name i should use to refer to you', 'what_is_your_name'), ('what is 20% of a thousand', 'calculator'), ('what would be the conversion between tablespoons and teaspoons', 'measurement_conversion'), ('my card is damaged and no longer function', 'damaged_card'), ('can you show me my shopping list', 'shopping_list'), ('set your language setting to english', 'change_language'), ('has may supervisor approved the vacation days i asked for', 'pto_request_status'), ('is there really an answer to the meaning of life', 'meaning_of_life'), ('take watering the plants off of my to do list', 'todo_list_update'), ('i need a recent transaction looked into', 'transactions'), ('show me the minimum payment for my boat bill', 'min_payment'), ('i need to know my salary', 'income'), ('i need you to buy a mouse for me', 'order'), ('what sorts of subjects are you well versed in', 'what_can_i_ask_you'), ('when is the next scheduled holiday, please', 'next_holiday'), ('please start counting down from 10 minutes', 'timer'), ('get me an uber for 4 heading to miam', 'uber'), ('about how many meetings am i attending between 12 and 3 today', 'meeting_schedule'), ('i need to schedule some car maintenance', 'schedule_maintenance'), ('let my bank know i will be on travel to fes', 'travel_notification'), ('could you speak a little faster, please', 'change_speed'), (\"send mom a text i'll talk to you later\", 'text'), (\"can i make a reservation at chevy's\", 'accept_reservations'), ('what are some interesting things to do in dc', 'travel_suggestion'), ('what is our purpose here on earth', 'meaning_of_life'), ('tell me what the weather is like', 'weather'), ('how do i use reward for my first hawaiian bank', 'redeem_rewards'), ('can you help me with anything i need', 'what_can_i_ask_you'), ('how much is 10kg in pounds and ounces', 'measurement_conversion'), ('i need to know how many vacation days i have', 'pto_balance'), ('do i need to get gas soon', 'gas'), ('what meetings are on my calendar', 'meeting_schedule'), ('can i get more money on my discover card', 'credit_limit_change'), ('play a song for me', 'play_music'), ('how long do i have before frozen chicken will go bad', 'food_last'), ('can you please locate my phone', 'find_phone'), ('my card declined yesterday and i want to know why', 'card_declined'), (\"how do you say it's snowing in german\", 'translate'), (\"i don't understand why i have been barred from accessing my own account\", 'account_blocked'), ('do i have anything to do march 2nd', 'calendar'), ('can you help me solve a math problem', 'calculator'), ('i must call dr smith', 'make_call'), ('does longhorn steakhouse have good reviews', 'restaurant_reviews'), ('i wanna know the point of life', 'meaning_of_life'), ('what is the process for requesting a vacation', 'pto_request'), ('set reminder to feed cat tonight at 6pm', 'reminder_update'), ('when do i have meetings today', 'meeting_schedule'), (\"i'd like a block on my charles schwab account immediately\", 'freeze_account'), ('you must skip this song and play the next one', 'next_song'), ('are you familiar with any types of subjects', 'what_can_i_ask_you'), ('my gps coordiantes will be shared with aunt sunny', 'share_location'), ('how much is my income', 'income'), ('what kind of fuel should i use to fill the car', 'gas_type'), (\"my new playlist well be having god's plan adding to it\", 'update_playlist'), ('read my calendar events', 'calendar'), ('check to see who is at the doof', 'smart_home'), ('has my credit card application been approved', 'application_status'), ('i am interested in applying for a visa card', 'new_card'), ('how long to cook a frozen pizza', 'cook_time'), ('is spaghetti healthy', 'nutrition_info'), ('can you give me a recipe for german chocolate cake', 'recipe'), ('what are the reviews for mountain mikes', 'restaurant_reviews'), ('purchase a flight from boise to sacramento on sunday and returning on wednesday', 'book_flight'), (\"what's the nutritional info for spaghetti\", 'nutrition_info'), ('i wanna know your name', 'what_is_your_name'), ('please whisper', 'whisper_mode'), ('tell me what time my flight ought to be landing', 'flight_status'), ('is my application processed for credit card', 'application_status'), ('start a timer for two minutes', 'timer'), ('what can i use you to help me with', 'what_can_i_ask_you'), ('find an uber xl to take me to the kroger near me', 'uber'), ('it was great to see you again, see ya later!', 'goodbye'), ('what date should i get my tires changed', 'tire_change'), ('yesterday what did i spend on lunch', 'spending_history'), (\"i need you to reserve at table for a party of four at devon's for 6:00 pm\", 'restaurant_reservation'), (\"what's your designation\", 'what_is_your_name'), ('who do you function for', 'who_do_you_work_for'), ('what are my insurance rewards', 'insurance'), ('do you my name', 'user_name'), ('i want to report a broken card', 'damaged_card'), ('revert to factory settings please', 'reset_settings'), ('i need you to schedule a meeting with bob brown at noon the day after tomorrow', 'schedule_meeting'), (\"what's the due date for my american express payment\", 'bill_due'), ('how do they say hello in germany', 'translate'), ('how are things with you', 'greeting'), ('find a chow mein recipe for me, please', 'recipe'), ('please revert all settings to factory default', 'reset_settings'), ('do you know of any good restaurants', 'restaurant_suggestion'), (\"what's the miles per gallon on this car\", 'mpg'), ('do you know you are not human', 'are_you_a_bot'), ('what if you want to obtain a new credit card', 'new_card'), ('what do you think is the meaning of like', 'meaning_of_life'), ('where can i find a place where i can schedule to check my tires out', 'schedule_maintenance'), ('what are the fees to use my card in nigeria', 'international_fees'), (\"what's the name of this tune\", 'what_song'), ('your boss is who', 'who_do_you_work_for'), ('what meetings are scheduled for today', 'meeting_schedule'), ('no, that information is wrong', 'no'), ('please check the pressure in my tires', 'tire_pressure'), ('what name do you know me by', 'user_name'), ('will qdoba take reservations', 'accept_reservations'), ('tell me the exchange rate between rubles and dollars', 'exchange_rate'), ('please let me know if giving the dog a bath is on my list of tasks to complete', 'todo_list'), ('can you tell me the mane of the song playing', 'what_song'), ('what do you want me to refer to you as', 'what_is_your_name'), (\"how long's it been since my car was at autozone\", 'last_maintenance'), (\"do you know if anyone's even looked at the application i sent in for the new visa card\", 'application_status'), ('do you know any fun facts about shampoo', 'fun_fact'), ('i want to hear my to do list please', 'todo_list'), ('flip a coin for me', 'flip_coin'), ('send a text message to chris and ask what he wants to eat for dinner', 'text'), ('when was the last time i got my oil changed', 'last_maintenance'), ('can you tell bob to get his dog via text', 'text'), ('book an uber to school', 'uber'), ('how do you make pot roast', 'recipe'), ('ai, do you like your name', 'what_is_your_name'), ('bring up my most recent purchases', 'transactions'), ('do i need a visa for germany', 'international_visa'), ('find out for me if my amex card application was received', 'application_status'), ('on may 12 to may 16 can i get a car from aiken', 'car_rental'), ('when am i next having a meeting in december', 'calendar'), ('set a reminder for the movie', 'reminder_update'), ('can you please help me find my lost luggage', 'lost_luggage'), ('tell me how healthy mac and cheese is', 'nutrition_info'), (\"what's my checking balance\", 'balance'), ('are my tires good on air', 'tire_pressure'), (\"let's switch to whisper voice\", 'whisper_mode'), ('does my car have enough gas to get to chicago', 'gas'), (\"favorite what's currently playing on my playlist\", 'update_playlist'), ('how long should i wait before i can bake bread with homemade dough', 'cook_time'), ('can you tell me how to spell manipulation', 'spelling'), ('i must apply for a new credit card', 'new_card'), ('assist me by setting my alarm for 9:00 and another for 11:00', 'alarm'), ('check the interest rate on my savings account', 'interest_rate'), ('i would like to change my pin number for my chase account', 'pin_change'), ('what amount of time will pass in order for a person at our location to take bus to detroit', 'distance'), ('add this track to my rock playlist', 'update_playlist'), ('please remind me to take out the trash', 'reminder_update'), ('please change pin to 1234 on my bank account trailing in 3829', 'pin_change'), ('set default language to english', 'change_language'), ('i would like to know how to rollover my 401k', 'rollover_401k'), ('is there a wait time to get into tgifridays', 'how_busy'), ('i lost my phone', 'find_phone'), (\"what's bank of america's routing number\", 'routing'), ('i want to check on my vacation request', 'pto_request_status'), ('i need to figure out what to do about lost luggage', 'lost_luggage'), ('play beatles', 'play_music'), ('i need to let my bank know i am traveling to chicago', 'travel_notification'), ('i need an uber to times square asap', 'uber'), (\"i'm looking for a good suggestion for norse cuisine\", 'meal_suggestion'), ('tell me a joke about lawyers', 'tell_joke'), ('is an international visa needed to travel to z', 'international_visa'), ('can you ping priest chris with a text and send the following confession', 'text'), ('i need to switch back to my factory settings', 'reset_settings'), ('i want to reserve an uber to go to the airport', 'uber'), ('i need to know my income', 'income'), ('go ahead and change your accent to the male british one', 'change_accent'), ('what is the remainder of my starbucks rewards balance', 'rewards_balance'), ('give me the nutrition facts for chicken breast', 'nutrition_info'), ('can i hear some music by cloud control', 'play_music'), ('how long can i go before i need to change my tires', 'tire_change'), ('is a bar close to my church', 'directions'), ('i need to change your voice settings', 'change_speed'), ('tell me how long i ought to spend preparing fajitas', 'cook_time'), ('not quite sure how to respond', 'maybe'), ('i want you to call me pam', 'change_user_name')]\n",
        "test_label_masks = np.ones(len(test_examples), dtype=bool)\n",
        "\n",
        "test_dataloader = generate_data_loader(test_examples, test_label_masks, label_map, do_shuffle = False, balance_label_examples = False)"
      ],
      "execution_count": null,
      "outputs": []
    },
    {
      "cell_type": "code",
      "metadata": {
        "colab": {
          "base_uri": "https://localhost:8080/"
        },
        "id": "vcocjarwaH5J",
        "outputId": "975fc8b4-79cb-42a9-8851-336219a13f98"
      },
      "source": [
        "total_test_loss = 0\n",
        "nb_test_steps = 0\n",
        "\n",
        "all_preds = []\n",
        "all_labels_ids = []\n",
        "\n",
        "#loss\n",
        "nll_loss = torch.nn.CrossEntropyLoss(ignore_index=-1)\n",
        "\n",
        "# Evaluate data for one epoch\n",
        "for batch in test_dataloader:\n",
        "    \n",
        "    # Unpack this training batch from our dataloader. \n",
        "    b_input_ids = batch[0].to(device)\n",
        "    b_input_mask = batch[1].to(device)\n",
        "    b_labels = batch[2].to(device)\n",
        "    \n",
        "    # Tell pytorch not to bother with constructing the compute graph during\n",
        "    # the forward pass, since this is only needed for backprop (training).\n",
        "    with torch.no_grad():        \n",
        "        model_outputs = transformer(b_input_ids, attention_mask=b_input_mask)\n",
        "        hidden_states = model_outputs[-1]\n",
        "        _, logits, probs = discriminator2(hidden_states)\n",
        "        ###log_probs = F.log_softmax(probs[:,1:], dim=-1)\n",
        "        filtered_logits = logits[:,0:-1]\n",
        "        # Accumulate the test loss.\n",
        "        total_test_loss += nll_loss(filtered_logits, b_labels)\n",
        "        \n",
        "    # Accumulate the predictions and the input labels\n",
        "    _, preds = torch.max(filtered_logits, 1)\n",
        "    all_preds += preds.detach().cpu()\n",
        "    all_labels_ids += b_labels.detach().cpu()\n",
        "\n",
        "# Report the final accuracy for this validation run.\n",
        "all_preds = torch.stack(all_preds).numpy()\n",
        "all_labels_ids = torch.stack(all_labels_ids).numpy()\n",
        "test_accuracy = np.sum(all_preds == all_labels_ids) / len(all_preds)\n",
        "print(\"  Accuracy: {0:.3f}\".format(test_accuracy))"
      ],
      "execution_count": null,
      "outputs": [
        {
          "output_type": "stream",
          "text": [
            "  Accuracy: 1.000\n"
          ],
          "name": "stdout"
        }
      ]
    },
    {
      "cell_type": "code",
      "metadata": {
        "colab": {
          "base_uri": "https://localhost:8080/"
        },
        "id": "J3CkbbiKc9Fi",
        "outputId": "d5e43f4f-a38c-4a1b-80ca-6683d98ebf67"
      },
      "source": [
        "all_preds"
      ],
      "execution_count": null,
      "outputs": [
        {
          "output_type": "execute_result",
          "data": {
            "text/plain": [
              "array([31, 31,  4, 31, 44, 31, 31,  4, 36, 31, 11, 31, 36, 36, 45, 30, 36,\n",
              "       36, 31, 45, 10, 31,  3, 36, 31, 31, 36, 36, 11,  6, 39, 49, 39, 31,\n",
              "       31, 31, 23, 30, 30, 31,  6, 33, 41, 39, 36, 31, 31, 33, 36, 10, 39,\n",
              "       31, 31, 31, 49, 31, 36,  6,  6, 45, 36, 31, 36, 31, 31,  3, 45, 31,\n",
              "       31, 31, 11,  3,  6, 30, 36,  4, 31, 14, 31, 45, 36, 45, 31, 45, 31,\n",
              "       36, 36, 39, 31, 31, 33, 36, 39, 31, 31,  6, 36, 31, 10, 31, 39, 41,\n",
              "        6, 39, 31, 31, 39, 45, 31, 45, 39, 31, 36, 39])"
            ]
          },
          "metadata": {
            "tags": []
          },
          "execution_count": 38
        }
      ]
    },
    {
      "cell_type": "code",
      "metadata": {
        "colab": {
          "base_uri": "https://localhost:8080/"
        },
        "id": "TLMv1pebdyO-",
        "outputId": "9cc6fb2f-9f71-4a56-e43b-b9996886490f"
      },
      "source": [
        "all_labels_ids"
      ],
      "execution_count": null,
      "outputs": [
        {
          "output_type": "execute_result",
          "data": {
            "text/plain": [
              "array([39, 18, 14,  0,  0, 39, 18, 14,  6, 31, 45, 31,  6, 36,  3, 29, 36,\n",
              "        6, 31,  3, 33, 31, 40,  5, 31, 18,  6, 36, 25, 34, 10, 23, 10, 31,\n",
              "       18, 39, 12,  4,  4, 39, 37,  2, 11,  7, 36, 31, 31,  2, 36, 37, 26,\n",
              "       39, 31, 31, 32, 31, 36, 34,  5,  3, 36, 18, 36, 39, 39, 40,  3, 31,\n",
              "       18, 39, 45, 40, 34, 29, 36, 14, 31, 41, 31,  3,  5, 30, 39,  3, 31,\n",
              "        6,  6, 10, 31, 31,  2, 36, 44, 31, 31,  5, 36, 31, 33, 31, 26, 49,\n",
              "        5,  1, 31, 31,  7,  3, 18,  3, 44, 31, 36,  7])"
            ]
          },
          "metadata": {
            "tags": []
          },
          "execution_count": 39
        }
      ]
    },
    {
      "cell_type": "code",
      "metadata": {
        "colab": {
          "base_uri": "https://localhost:8080/",
          "height": 35
        },
        "id": "I6KpfWjKe8Kc",
        "outputId": "e6967c7e-a051-477d-ef64-bd5875ca50db"
      },
      "source": [
        "label_reverse_map[31]\n"
      ],
      "execution_count": null,
      "outputs": [
        {
          "output_type": "execute_result",
          "data": {
            "application/vnd.google.colaboratory.intrinsic+json": {
              "type": "string"
            },
            "text/plain": [
              "'HUM_ind'"
            ]
          },
          "metadata": {
            "tags": []
          },
          "execution_count": 44
        }
      ]
    },
    {
      "cell_type": "code",
      "metadata": {
        "id": "YlZROsf5fDxm"
      },
      "source": [
        "def get_prediction(input_list):\n",
        "  test_examples = []\n",
        "  for item in input_list:\n",
        "    test_examples.append((item,'UNK_UNK'))\n",
        "  test_label_masks = np.ones(len(test_examples), dtype=bool)\n",
        "  test_dataloader = generate_data_loader(test_examples, test_label_masks, label_map, do_shuffle = False, balance_label_examples = False)\n",
        "  \n",
        "\n",
        "  total_test_loss = 0\n",
        "  nb_test_steps = 0\n",
        "\n",
        "  all_preds = []\n",
        "  all_labels_ids = []\n",
        "\n",
        "  #loss\n",
        "  nll_loss = torch.nn.CrossEntropyLoss(ignore_index=-1)\n",
        "\n",
        "  # Evaluate data for one epoch\n",
        "  for batch in test_dataloader:\n",
        "      \n",
        "      # Unpack this training batch from our dataloader. \n",
        "      b_input_ids = batch[0].to(device)\n",
        "      b_input_mask = batch[1].to(device)\n",
        "      b_labels = batch[2].to(device)\n",
        "      \n",
        "      # Tell pytorch not to bother with constructing the compute graph during\n",
        "      # the forward pass, since this is only needed for backprop (training).\n",
        "      with torch.no_grad():        \n",
        "          model_outputs = transformer(b_input_ids, attention_mask=b_input_mask)\n",
        "          hidden_states = model_outputs[-1]\n",
        "          _, logits, probs = discriminator2(hidden_states)\n",
        "          ###log_probs = F.log_softmax(probs[:,1:], dim=-1)\n",
        "          filtered_logits = logits[:,0:-1]\n",
        "          # Accumulate the test loss.\n",
        "          total_test_loss += nll_loss(filtered_logits, b_labels)\n",
        "          \n",
        "      # Accumulate the predictions and the input labels\n",
        "      _, preds = torch.max(filtered_logits, 1)\n",
        "      all_preds += preds.detach().cpu()\n",
        "      all_labels_ids += b_labels.detach().cpu()\n",
        "  predictions = []\n",
        "  all_preds = torch.stack(all_preds).numpy()\n",
        "  for item in all_preds:\n",
        "    print(item)\n",
        "    predictions.append(label_reverse_map[item])\n",
        "  return predictions"
      ],
      "execution_count": null,
      "outputs": []
    },
    {
      "cell_type": "code",
      "metadata": {
        "colab": {
          "base_uri": "https://localhost:8080/"
        },
        "id": "09vOll05-Kbz",
        "outputId": "598a519e-b9b0-42a2-d3a5-ed29be51a2ea"
      },
      "source": [
        "get_prediction([\"which department is good\",\"students from which country are obedient\"])"
      ],
      "execution_count": null,
      "outputs": [
        {
          "output_type": "stream",
          "text": [
            "0\n",
            "1\n"
          ],
          "name": "stdout"
        },
        {
          "output_type": "execute_result",
          "data": {
            "text/plain": [
              "['user_department', 'user_country']"
            ]
          },
          "metadata": {
            "tags": []
          },
          "execution_count": 27
        }
      ]
    },
    {
      "cell_type": "code",
      "metadata": {
        "id": "pRhn75Nt-b30"
      },
      "source": [
        ""
      ],
      "execution_count": null,
      "outputs": []
    }
  ]
}